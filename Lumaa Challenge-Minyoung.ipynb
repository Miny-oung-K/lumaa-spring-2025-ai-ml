{
 "cells": [
  {
   "cell_type": "code",
   "execution_count": 1,
   "id": "40290cca-79e0-426d-809c-d41f95d13a0b",
   "metadata": {},
   "outputs": [
    {
     "name": "stdout",
     "output_type": "stream",
     "text": [
      "Requirement already satisfied: scikit-learn in /Library/Frameworks/Python.framework/Versions/3.12/lib/python3.12/site-packages (1.6.1)\n",
      "Requirement already satisfied: numpy>=1.19.5 in /Library/Frameworks/Python.framework/Versions/3.12/lib/python3.12/site-packages (from scikit-learn) (1.26.4)\n",
      "Requirement already satisfied: scipy>=1.6.0 in /Library/Frameworks/Python.framework/Versions/3.12/lib/python3.12/site-packages (from scikit-learn) (1.15.2)\n",
      "Requirement already satisfied: joblib>=1.2.0 in /Library/Frameworks/Python.framework/Versions/3.12/lib/python3.12/site-packages (from scikit-learn) (1.4.2)\n",
      "Requirement already satisfied: threadpoolctl>=3.1.0 in /Library/Frameworks/Python.framework/Versions/3.12/lib/python3.12/site-packages (from scikit-learn) (3.5.0)\n"
     ]
    }
   ],
   "source": [
    "import pandas as pd\n",
    "import numpy as np\n",
    "\n",
    "!pip install scikit-learn\n",
    "\n",
    "from sklearn.feature_extraction.text import TfidfVectorizer\n",
    "from sklearn.metrics.pairwise import cosine_similarity"
   ]
  },
  {
   "cell_type": "code",
   "execution_count": 12,
   "id": "1e8803ab-6ad2-4444-a7c1-3c62d427be76",
   "metadata": {},
   "outputs": [],
   "source": [
    "def load_dataset():\n",
    "    \"\"\"Load a dataset of movies with relevant columns.\"\"\"\n",
    "    df = pd.read_csv(\"IMDB Top 250 Movies.csv\")\n",
    "    return df[['name', 'genre', 'tagline']].rename(columns={'name': 'movie', 'tagline': 'description'})"
   ]
  },
  {
   "cell_type": "code",
   "execution_count": 22,
   "id": "5783c397-9cc3-495e-9786-63ae2a207765",
   "metadata": {},
   "outputs": [],
   "source": [
    "def recommend_movies(user_input, dataset, top_n=5):\n",
    "    \"\"\"Recommend movies based on text similarity, emphasizing genre.\"\"\"\n",
    "    \n",
    "    # Create a new feature combining genre and description\n",
    "    dataset['combined_features'] = dataset['genre'] + \" \" + dataset['description'].fillna(\"\")\n",
    "    \n",
    "    # Combine user input with movie descriptions\n",
    "    descriptions = dataset['combined_features'].tolist()\n",
    "    descriptions.append(user_input)\n",
    "    \n",
    "    # Convert text into TF-IDF vectors\n",
    "    vectorizer = TfidfVectorizer(stop_words='english')\n",
    "    tfidf_matrix = vectorizer.fit_transform(descriptions)\n",
    "    \n",
    "    # Compute cosine similarity\n",
    "    similarity_scores = cosine_similarity(tfidf_matrix[-1], tfidf_matrix[:-1])\n",
    "    \n",
    "    # Get top N matches for movie recommendations\n",
    "    top_indices = similarity_scores.argsort()[0][-top_n:][::-1]\n",
    "    recommendations = dataset.iloc[top_indices]\n",
    "    \n",
    "    return recommendations[['movie', 'genre']]"
   ]
  },
  {
   "cell_type": "code",
   "execution_count": 23,
   "id": "dd04eb2c-1066-4b22-a827-002de2528330",
   "metadata": {},
   "outputs": [
    {
     "name": "stdout",
     "output_type": "stream",
     "text": [
      "1. Aliens (Action,Adventure,Sci-Fi)\n",
      "2. Terminator 2: Judgment Day (Action,Sci-Fi)\n",
      "3. Logan (Action,Drama,Sci-Fi)\n",
      "4. The Matrix (Action,Sci-Fi)\n",
      "5. The Thing (Horror,Mystery,Sci-Fi)\n"
     ]
    }
   ],
   "source": [
    "# Enter user query\n",
    "if __name__ == \"__main__\":\n",
    "    dataset = load_dataset()\n",
    "    user_query = \"I love scary sci-fi movies\"\n",
    "    recommendations = recommend_movies(user_query, dataset)\n",
    "    \n",
    "    # Print only movie titles ranked 1 to 5\n",
    "    for i, row in enumerate(recommendations.itertuples(), start=1):\n",
    "        print(f\"{i}. {row.movie} ({row.genre})\")"
   ]
  },
  {
   "cell_type": "code",
   "execution_count": null,
   "id": "c5629221-690d-4261-8033-31824b596874",
   "metadata": {},
   "outputs": [],
   "source": []
  },
  {
   "cell_type": "code",
   "execution_count": null,
   "id": "5219a95c-8659-48cf-bc69-caac8e96c7ba",
   "metadata": {},
   "outputs": [],
   "source": []
  }
 ],
 "metadata": {
  "kernelspec": {
   "display_name": "Python 3 (ipykernel)",
   "language": "python",
   "name": "python3"
  },
  "language_info": {
   "codemirror_mode": {
    "name": "ipython",
    "version": 3
   },
   "file_extension": ".py",
   "mimetype": "text/x-python",
   "name": "python",
   "nbconvert_exporter": "python",
   "pygments_lexer": "ipython3",
   "version": "3.12.3"
  }
 },
 "nbformat": 4,
 "nbformat_minor": 5
}
